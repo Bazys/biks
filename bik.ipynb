{
 "cells": [
  {
   "cell_type": "code",
   "execution_count": 3,
   "metadata": {},
   "outputs": [],
   "source": [
    "import os\n",
    "import urllib.request\n",
    "import zipfile\n",
    "import codecs\n",
    "import xmltodict\n",
    "import json\n",
    "from mysql.connector import connection\n",
    "from mysql.connector import errorcode\n",
    "import mysql.connector"
   ]
  },
  {
   "cell_type": "code",
   "execution_count": null,
   "metadata": {},
   "outputs": [],
   "source": [
    "try:\n",
    "    local_filename, headers = urllib.request.urlretrieve('http://www.cbr.ru/s/newbik')\n",
    "except Exception,e:\n",
    "    print e"
   ]
  },
  {
   "cell_type": "code",
   "execution_count": null,
   "metadata": {},
   "outputs": [],
   "source": [
    "zip_ref = zipfile.ZipFile(local_filename, 'r')\n",
    "file_name = zip_ref.namelist()[0]\n",
    "biks = xmltodict.parse(zip_ref.read(file_name))['ED807']['BICDirectoryEntry']\n",
    "os.remove(local_filename)"
   ]
  },
  {
   "cell_type": "code",
   "execution_count": null,
   "metadata": {},
   "outputs": [],
   "source": [
    "add_bik = (\"\"\"\n",
    "INSERT INTO biks (bik,name,reg_n,cntr_cd,rgn,ind,t_np,n_np,adr,date_in,uid,account)\n",
    "VALUES (%s,%s,%s,%s,%s,%s,%s,%s,%s,%s,%s,%s)\n",
    "\"\"\")\n",
    "try:\n",
    "    cnx = connection.MySQLConnection(user='user', password='password',\n",
    "                                 host='127.0.0.1',\n",
    "                                 database='bik')\n",
    "    cursor = cnx.cursor()\n",
    "    cursor.execute(\"TRUNCATE biks;\")\n",
    "    for bik in biks:\n",
    "        corr = None\n",
    "        participant_info = bik.get('ParticipantInfo')\n",
    "        accounts=bik.get('Accounts',False)\n",
    "#         print(accounts)\n",
    "        if accounts:\n",
    "            if type(accounts) is list:\n",
    "                corr = accounts[0].get('@Account')\n",
    "            else:\n",
    "                corr = accounts.get('@Account')\n",
    "        data_bik = (bik['@BIC'],\n",
    "            participant_info.get('@NameP'),\n",
    "            participant_info.get('@RegN',None),\n",
    "            participant_info.get('@CntrCd','RU'),\n",
    "            participant_info.get('@Rgn',None),\n",
    "            participant_info.get('@Ind',None),\n",
    "            participant_info.get('@Tnp',None),\n",
    "            participant_info.get('@Nnp',None),\n",
    "            participant_info.get('@Adr',None),\n",
    "            participant_info.get('@DateIn',None),\n",
    "            participant_info.get('@UID',None),\n",
    "            corr,\n",
    "           )\n",
    "        cursor.execute(add_bik, data_bik)\n",
    "except mysql.connector.Error as err:\n",
    "  if err.errno == errorcode.ER_ACCESS_DENIED_ERROR:\n",
    "    print(\"Something is wrong with your user name or password\")\n",
    "  elif err.errno == errorcode.ER_BAD_DB_ERROR:\n",
    "    print(\"Database does not exist\")\n",
    "  else:\n",
    "    print(err)\n",
    "else:\n",
    "    cnx.commit()\n",
    "    cursor.close()\n",
    "    cnx.close()"
   ]
  },
  {
   "cell_type": "code",
   "execution_count": null,
   "metadata": {},
   "outputs": [],
   "source": []
  }
 ],
 "metadata": {
  "kernelspec": {
   "display_name": "Python 3",
   "language": "python",
   "name": "python3"
  },
  "language_info": {
   "codemirror_mode": {
    "name": "ipython",
    "version": 3
   },
   "file_extension": ".py",
   "mimetype": "text/x-python",
   "name": "python",
   "nbconvert_exporter": "python",
   "pygments_lexer": "ipython3",
   "version": "3.7.2"
  }
 },
 "nbformat": 4,
 "nbformat_minor": 2
}
